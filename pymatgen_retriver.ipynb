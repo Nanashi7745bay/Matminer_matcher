{
 "cells": [
  {
   "cell_type": "code",
   "execution_count": null,
   "id": "2aa7c12e",
   "metadata": {},
   "outputs": [],
   "source": [
    "import numpy as np\n",
    "from mp_api.client import MPRester\n",
    "from matminer.featurizers.site import CrystalNNFingerprint\n",
    "from matminer.featurizers.structure import SiteStatsFingerprint\n",
    "from api import api\n",
    "\n",
    "with MPRester(api()) as mpr:\n",
    "    \n",
    "    # Get structures.\n",
    "    diamond = mpr.get_structure_by_material_id(\"mp-66\")\n",
    "    gaas = mpr.get_structure_by_material_id(\"mp-2534\")\n",
    "    rocksalt = mpr.get_structure_by_material_id(\"mp-22862\")\n",
    "    perovskite = mpr.get_structure_by_material_id(\"mp-5827\")\n",
    "    #spinel_caco2s4 = mpr.get_structure_by_material_id(\"mvc-12728\")\n",
    "    spinel_sicd2O4 = mpr.get_structure_by_material_id(\"mp-560842\")\n",
    "\n",
    "    # Calculate structure fingerprints.\n",
    "    ssf = SiteStatsFingerprint(\n",
    "        CrystalNNFingerprint.from_preset('ops', distance_cutoffs=None, x_diff_weight=0),\n",
    "        stats=('mean', 'std_dev', 'minimum', 'maximum'))\n",
    "    v_diamond = np.array(ssf.featurize(diamond))\n",
    "    v_gaas = np.array(ssf.featurize(gaas))\n",
    "    v_rocksalt = np.array(ssf.featurize(rocksalt))\n",
    "    v_perovskite = np.array(ssf.featurize(perovskite))\n",
    "    #v_spinel_caco2s4 = np.array(ssf.featurize(spinel_caco2s4))\n",
    "    v_spinel_sicd2O4 = np.array(ssf.featurize(spinel_sicd2O4))\n",
    "\n",
    "    # Print out distance between structures.\n",
    "    print('Distance between diamond and GaAs: {:.4f}'.format(np.linalg.norm(v_diamond - v_gaas)))\n",
    "    print('Distance between diamond and rocksalt: {:.4f}'.format(np.linalg.norm(v_diamond - v_rocksalt)))\n",
    "    print('Distance between diamond and perovskite: {:.4f}'.format(np.linalg.norm(v_diamond - v_perovskite)))\n",
    "    print('Distance between rocksalt and perovskite: {:.4f}'.format(np.linalg.norm(v_rocksalt - v_perovskite)))"
   ]
  }
 ],
 "metadata": {
  "kernelspec": {
   "display_name": ".venv",
   "language": "python",
   "name": "python3"
  },
  "language_info": {
   "name": "python",
   "version": "3.13.3"
  }
 },
 "nbformat": 4,
 "nbformat_minor": 5
}
