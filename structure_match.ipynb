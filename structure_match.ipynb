{
 "cells": [
  {
   "cell_type": "code",
   "execution_count": null,
   "id": "72c4317c",
   "metadata": {},
   "outputs": [
    {
     "data": {
      "application/vnd.jupyter.widget-view+json": {
       "model_id": "f36326494ab54722b46525a2bbeb9de5",
       "version_major": 2,
       "version_minor": 0
      },
      "text/plain": [
       "Retrieving MaterialsDoc documents:   0%|          | 0/1 [00:00<?, ?it/s]"
      ]
     },
     "metadata": {},
     "output_type": "display_data"
    },
    {
     "data": {
      "application/vnd.jupyter.widget-view+json": {
       "model_id": "547cbf36470a4fcd9a5fce6b487305cb",
       "version_major": 2,
       "version_minor": 0
      },
      "text/plain": [
       "Retrieving MaterialsDoc documents:   0%|          | 0/1 [00:00<?, ?it/s]"
      ]
     },
     "metadata": {},
     "output_type": "display_data"
    },
    {
     "data": {
      "application/vnd.jupyter.widget-view+json": {
       "model_id": "42c12d8204b14ac1920da99da1113bf7",
       "version_major": 2,
       "version_minor": 0
      },
      "text/plain": [
       "Retrieving MaterialsDoc documents:   0%|          | 0/1 [00:00<?, ?it/s]"
      ]
     },
     "metadata": {},
     "output_type": "display_data"
    },
    {
     "data": {
      "application/vnd.jupyter.widget-view+json": {
       "model_id": "a104422385fa49eb9ea8cd001565b07d",
       "version_major": 2,
       "version_minor": 0
      },
      "text/plain": [
       "Retrieving MaterialsDoc documents:   0%|          | 0/1 [00:00<?, ?it/s]"
      ]
     },
     "metadata": {},
     "output_type": "display_data"
    },
    {
     "data": {
      "application/vnd.jupyter.widget-view+json": {
       "model_id": "ed876ff1def543f695c606624287a133",
       "version_major": 2,
       "version_minor": 0
      },
      "text/plain": [
       "Retrieving MaterialsDoc documents:   0%|          | 0/1 [00:00<?, ?it/s]"
      ]
     },
     "metadata": {},
     "output_type": "display_data"
    },
    {
     "name": "stdout",
     "output_type": "stream",
     "text": [
      "Distance between diamond and GaAs: 0.0000\n",
      "Distance between diamond and rocksalt: 3.5724\n",
      "Distance between diamond and perovskite: 3.5540\n",
      "Distance between rocksalt and perovskite: 2.7417\n"
     ]
    }
   ],
   "source": [
    "import numpy as np\n",
    "from mp_api.client import MPRester\n",
    "from matminer.featurizers.site import CrystalNNFingerprint\n",
    "from matminer.featurizers.structure import SiteStatsFingerprint\n",
    "from api import api\n",
    "\n",
    "with MPRester(api()) as mpr:\n",
    "\n",
    "    # Get structures.\n",
    "    diamond = mpr.get_structure_by_material_id(\"mp-66\")\n",
    "    gaas = mpr.get_structure_by_material_id(\"mp-2534\")\n",
    "    rocksalt = mpr.get_structure_by_material_id(\"mp-22862\")\n",
    "    perovskite = mpr.get_structure_by_material_id(\"mp-5827\")\n",
    "    #spinel_caco2s4 = mpr.get_structure_by_material_id(\"mvc-12728\")\n",
    "    spinel_sicd2O4 = mpr.get_structure_by_material_id(\"mp-560842\")\n",
    "\n",
    "    # Calculate structure fingerprints.\n",
    "    ssf = SiteStatsFingerprint(\n",
    "        CrystalNNFingerprint.from_preset('ops', distance_cutoffs=None, x_diff_weight=0),\n",
    "        stats=('mean', 'std_dev', 'minimum', 'maximum'))\n",
    "    v_diamond = np.array(ssf.featurize(diamond))\n",
    "    v_gaas = np.array(ssf.featurize(gaas))\n",
    "    v_rocksalt = np.array(ssf.featurize(rocksalt))\n",
    "    v_perovskite = np.array(ssf.featurize(perovskite))\n",
    "    #v_spinel_caco2s4 = np.array(ssf.featurize(spinel_caco2s4))\n",
    "    v_spinel_sicd2O4 = np.array(ssf.featurize(spinel_sicd2O4))\n",
    "\n",
    "    # Print out distance between structures.\n",
    "    print('Distance between diamond and GaAs: {:.4f}'.format(np.linalg.norm(v_diamond - v_gaas)))\n",
    "    print('Distance between diamond and rocksalt: {:.4f}'.format(np.linalg.norm(v_diamond - v_rocksalt)))\n",
    "    print('Distance between diamond and perovskite: {:.4f}'.format(np.linalg.norm(v_diamond - v_perovskite)))\n",
    "    print('Distance between rocksalt and perovskite: {:.4f}'.format(np.linalg.norm(v_rocksalt - v_perovskite)))\n",
    "    #print('Distance between Ca(CoS2)2-spinel and Si(CdO2)2-spinel: {:.4f}'.format(np.linalg.norm(v_spinel_caco2s4 - v_spinel_sicd2O4)))"
   ]
  },
  {
   "cell_type": "code",
   "execution_count": 10,
   "id": "d25bd7fe",
   "metadata": {},
   "outputs": [
    {
     "data": {
      "application/vnd.jupyter.widget-view+json": {
       "model_id": "9428ae541cbe4e9282d3f858e33b246a",
       "version_major": 2,
       "version_minor": 0
      },
      "text/plain": [
       "Retrieving SummaryDoc documents:   0%|          | 0/5 [00:00<?, ?it/s]"
      ]
     },
     "metadata": {},
     "output_type": "display_data"
    }
   ],
   "source": [
    "import os\n",
    "resC=[\"mp-66\",\"mp-2534\",\"mp-22862\",\"mp-5827\",\"mp-560842\"]\n",
    "path_output_dir = \"./structure_match/\"   ##POSCARファイルを出力するディレクトリを指定\n",
    "if not os.path.exists(path_output_dir): ##フォルダがない場合は、フォルダを作成するというコマンド\n",
    "    os.makedirs(path_output_dir)\n",
    "\n",
    "with MPRester( \"UoTjWPjyhIr2TUWRLcauWN0UQlN9UxmP\" ) as mpr:\n",
    "    results = mpr.materials.summary.search( material_ids=resC) ## 純粋に、resCリスト内に含まれる各要素を検索して、物質の情報をresultsに格納していく、という動作を繰り返します。\n",
    "    for i in range(0,len(resC)):\n",
    "        ofile = path_output_dir+\"POSCAR_\"+resC[i]+\".vasp\"  ##ofileはPOSCARがどのように出力されるかを示しています。例えば\"mp-1\"の場合、jupyter notebookを保存したフォルダ内にFe_tier5というフォルダを作成し、さらにその中にPOSCAR_mp-1を出力するという動作を行うはずです。\n",
    "        results[i].structure.to(filename = ofile)  ## fileを出力"
   ]
  },
  {
   "cell_type": "code",
   "execution_count": 42,
   "id": "731297c7",
   "metadata": {},
   "outputs": [
    {
     "data": {
      "text/plain": [
       "Structure Summary\n",
       "Lattice\n",
       "    abc : 6.3200001717 6.3200001717 6.3200001717\n",
       " angles : 90.0 90.0 90.0\n",
       " volume : 252.43598857433085\n",
       "      A : np.float64(6.3200001717) np.float64(0.0) np.float64(0.0)\n",
       "      B : np.float64(0.0) np.float64(6.3200001717) np.float64(0.0)\n",
       "      C : np.float64(0.0) np.float64(0.0) np.float64(6.3200001717)\n",
       "    pbc : True True True\n",
       "PeriodicSite: I (3.16, 0.0, 0.0) [0.5, 0.0, 0.0]\n",
       "PeriodicSite: I (0.0, 3.16, 0.0) [0.0, 0.5, 0.0]\n",
       "PeriodicSite: I (0.0, 0.0, 3.16) [0.0, 0.0, 0.5]\n",
       "PeriodicSite: Sn (0.0, 0.0, 0.0) [0.0, 0.0, 0.0]\n",
       "PeriodicSite: N (3.895, 3.16, 3.16) [0.6163, 0.5, 0.5]\n",
       "PeriodicSite: C (2.425, 3.16, 3.16) [0.3837, 0.5, 0.5]\n",
       "PeriodicSite: H (4.292, 4.024, 3.573) [0.6791, 0.6367, 0.5654]\n",
       "PeriodicSite: H (4.291, 2.364, 3.69) [0.679, 0.374, 0.5839]\n",
       "PeriodicSite: H (2.069, 3.233, 4.193) [0.3274, 0.5115, 0.6635]\n",
       "PeriodicSite: H (4.292, 3.095, 2.202) [0.6791, 0.4897, 0.3484]\n",
       "PeriodicSite: H (2.072, 2.228, 2.707) [0.3278, 0.3526, 0.4284]\n",
       "PeriodicSite: H (2.073, 4.019, 2.581) [0.3279, 0.6359, 0.4083]"
      ]
     },
     "execution_count": 42,
     "metadata": {},
     "output_type": "execute_result"
    }
   ],
   "source": [
    "from pymatgen.core import Structure\n",
    "filename = 'POSCAR_MASnI3'\n",
    "struc = Structure.from_file(filename)\n",
    "struc"
   ]
  },
  {
   "cell_type": "code",
   "execution_count": 52,
   "id": "6c0bfceb",
   "metadata": {},
   "outputs": [
    {
     "data": {
      "text/plain": [
       "Structure Summary\n",
       "Lattice\n",
       "    abc : 6.3200001717 6.3200001717 6.3200001717\n",
       " angles : 90.0 90.0 90.0\n",
       " volume : 252.43598857433085\n",
       "      A : np.float64(6.3200001717) np.float64(0.0) np.float64(0.0)\n",
       "      B : np.float64(0.0) np.float64(6.3200001717) np.float64(0.0)\n",
       "      C : np.float64(0.0) np.float64(0.0) np.float64(6.3200001717)\n",
       "    pbc : True True True\n",
       "PeriodicSite: I (3.16, 0.0, 0.0) [0.5, 0.0, 0.0]\n",
       "PeriodicSite: I (0.0, 3.16, 0.0) [0.0, 0.5, 0.0]\n",
       "PeriodicSite: I (0.0, 0.0, 3.16) [0.0, 0.0, 0.5]\n",
       "PeriodicSite: Sn (0.0, 0.0, 0.0) [0.0, 0.0, 0.0]\n",
       "PeriodicSite: C (3.176, 3.16, 3.158) [0.5025, 0.5, 0.4997]"
      ]
     },
     "execution_count": 52,
     "metadata": {},
     "output_type": "execute_result"
    }
   ],
   "source": [
    "from pymatgen.core import Structure\n",
    "filename = 'POSCAR_MASnI3'\n",
    "struc = Structure.from_file(filename)\n",
    "struc\n",
    "# Remove C, H, N atoms from the structure\n",
    "elements_to_remove = [\"C\", \"H\", \"N\"]\n",
    "\n",
    "sites_to_keep = [site for site in struc.sites if site.specie.symbol not in elements_to_remove]\n",
    "new_struc = Structure(struc.lattice, [site.specie for site in sites_to_keep], [site.frac_coords for site in sites_to_keep])\n",
    "\n",
    "coords_to_average = [site.frac_coords for site in struc.sites if site.specie.symbol in elements_to_remove]\n",
    "if coords_to_average:\n",
    "    mean_coords = np.mean(coords_to_average, axis=0)\n",
    "    # Add a C atom at the mean fractional coordinate\n",
    "    new_struc.append(\"C\", mean_coords)\n",
    "new_struc"
   ]
  },
  {
   "cell_type": "code",
   "execution_count": 48,
   "id": "36b00329",
   "metadata": {},
   "outputs": [
    {
     "data": {
      "text/plain": [
       "Structure Summary\n",
       "Lattice\n",
       "    abc : 6.29012 6.273890000000001 6.29704\n",
       " angles : 90.0014 90.36093 89.99929\n",
       " volume : 248.49843935580267\n",
       "      A : np.float64(6.289995196088408) np.float64(0.0) np.float64(-0.03962382597313583)\n",
       "      B : np.float64(7.678085543739923e-05) np.float64(6.273889997657259) np.float64(-0.00015330005235564468)\n",
       "      C : np.float64(0.0) np.float64(0.0) np.float64(6.29704)\n",
       "    pbc : True True True\n",
       "PeriodicSite: Pb (2.995, 3.137, 2.976) [0.4762, 0.5, 0.4756]\n",
       "PeriodicSite: I (2.685, 3.136, 6.108) [0.4268, 0.4999, 0.9726]\n",
       "PeriodicSite: I (2.742, 0.0002823, 3.172) [0.4359, 4.5e-05, 0.5065]\n",
       "PeriodicSite: I (6.057, 3.138, 2.781) [0.9629, 0.5002, 0.4477]\n",
       "PeriodicSite: C (0.1386, 0.7835, 0.0725) [0.02203, 0.1249, 0.01166]"
      ]
     },
     "execution_count": 48,
     "metadata": {},
     "output_type": "execute_result"
    }
   ],
   "source": [
    "from pymatgen.core import Structure\n",
    "filename = 'CH3NH3PbI3 (1).cif'\n",
    "struc = Structure.from_file(filename)\n",
    "struc\n",
    "# Remove C, H, N atoms from the structure\n",
    "elements_to_remove = [\"C\", \"H\", \"N\"]\n",
    "\n",
    "sites_to_keep = [site for site in struc.sites if site.specie.symbol not in elements_to_remove]\n",
    "new_struc = Structure(struc.lattice, [site.specie for site in sites_to_keep], [site.frac_coords for site in sites_to_keep])\n",
    "\n",
    "coords_to_average = [site.frac_coords for site in struc.sites if site.specie.symbol in elements_to_remove]\n",
    "if coords_to_average:\n",
    "    mean_coords = np.mean(coords_to_average, axis=0)\n",
    "    #mean_coords = wrap_to_center(mean_coords)\n",
    "    for i in range(len(mean_coords)):\n",
    "        if mean_coords[i] > 0.5:\n",
    "            mean_coords[i] -= 0.5\n",
    "        elif mean_coords[i] < -0.5:\n",
    "            mean_coords[i] += 0.5\n",
    "    # Add a C atom at the mean fractional coordinate\n",
    "    new_struc.append(\"C\", mean_coords)\n",
    "new_struc"
   ]
  },
  {
   "cell_type": "code",
   "execution_count": null,
   "id": "72012d80",
   "metadata": {},
   "outputs": [
    {
     "data": {
      "application/vnd.jupyter.widget-view+json": {
       "model_id": "0691fd70fe1f4dedabb4c58f31196515",
       "version_major": 2,
       "version_minor": 0
      },
      "text/plain": [
       "Retrieving MaterialsDoc documents:   0%|          | 0/1 [00:00<?, ?it/s]"
      ]
     },
     "metadata": {},
     "output_type": "display_data"
    },
    {
     "data": {
      "application/vnd.jupyter.widget-view+json": {
       "model_id": "2270ca1423cc4f1aafa689af5d1383ad",
       "version_major": 2,
       "version_minor": 0
      },
      "text/plain": [
       "Retrieving MaterialsDoc documents:   0%|          | 0/1 [00:00<?, ?it/s]"
      ]
     },
     "metadata": {},
     "output_type": "display_data"
    },
    {
     "data": {
      "application/vnd.jupyter.widget-view+json": {
       "model_id": "5fb9d6c71ba24ad79554e80323d6dff3",
       "version_major": 2,
       "version_minor": 0
      },
      "text/plain": [
       "Retrieving MaterialsDoc documents:   0%|          | 0/1 [00:00<?, ?it/s]"
      ]
     },
     "metadata": {},
     "output_type": "display_data"
    },
    {
     "data": {
      "application/vnd.jupyter.widget-view+json": {
       "model_id": "3cd5ecb4ac834dc0ac58b49e35f34dfd",
       "version_major": 2,
       "version_minor": 0
      },
      "text/plain": [
       "Retrieving MaterialsDoc documents:   0%|          | 0/1 [00:00<?, ?it/s]"
      ]
     },
     "metadata": {},
     "output_type": "display_data"
    },
    {
     "data": {
      "application/vnd.jupyter.widget-view+json": {
       "model_id": "741a243a32314fd7ab47299d1c24f6cd",
       "version_major": 2,
       "version_minor": 0
      },
      "text/plain": [
       "Retrieving MaterialsDoc documents:   0%|          | 0/1 [00:00<?, ?it/s]"
      ]
     },
     "metadata": {},
     "output_type": "display_data"
    }
   ],
   "source": [
    "with MPRester(\"UoTjWPjyhIr2TUWRLcauWN0UQlN9UxmP\") as mpr:\n",
    "\n",
    "    # Get structures.\n",
    "    diamond = mpr.get_structure_by_material_id(\"mp-66\")\n",
    "    gaas = mpr.get_structure_by_material_id(\"mp-2534\")\n",
    "    rocksalt = mpr.get_structure_by_material_id(\"mp-22862\")\n",
    "    perovskite = mpr.get_structure_by_material_id(\"mp-5827\")\n",
    "    #spinel_caco2s4 = mpr.get_structure_by_material_id(\"mvc-12728\")\n",
    "    spinel_sicd2O4 = mpr.get_structure_by_material_id(\"mp-560842\")\n",
    "\n",
    "    # Calculate structure fingerprints.\n",
    "    ssf = SiteStatsFingerprint(\n",
    "        CrystalNNFingerprint.from_preset('ops', distance_cutoffs=None, x_diff_weight=0),\n",
    "        stats=('mean', 'std_dev', 'minimum', 'maximum'))\n",
    "    v_diamond = np.array(ssf.featurize(diamond))\n",
    "    v_gaas = np.array(ssf.featurize(gaas))\n",
    "    v_rocksalt = np.array(ssf.featurize(rocksalt))\n",
    "    v_perovskite = np.array(ssf.featurize(perovskite))\n",
    "    v_struc = np.array(ssf.featurize(struc))\n",
    "    v_new_struc = np.array(ssf.featurize(new_struc))\n",
    "    v_spinel_sicd2O4 = np.array(ssf.featurize(spinel_sicd2O4))\n",
    "\n",
    "    # Print out distance between structures.\n",
    "    print('Distance between diamond and GaAs: {:.4f}'.format(np.linalg.norm(v_diamond - v_gaas)))\n",
    "    print('Distance between diamond and rocksalt: {:.4f}'.format(np.linalg.norm(v_diamond - v_rocksalt)))\n",
    "    print('Distance between diamond and perovskite: {:.4f}'.format(np.linalg.norm(v_diamond - v_perovskite)))\n",
    "    print('Distance between rocksalt and perovskite: {:.4f}'.format(np.linalg.norm(v_rocksalt - v_perovskite)))\n",
    "    print('Distance between struc and Perovskite: {:.4f}'.format(np.linalg.norm(v_new_struc - v_perovskite)))\n",
    "    print('Distance between struc and new_struc: {:.4f}'.format(np.linalg.norm(v_new_struc - v_struc)))\n",
    "    #print('Distance between Ca(CoS2)2-spinel and Si(CdO2)2-spinel: {:.4f}'.format(np.linalg.norm(v_spinel_caco2s4 - v_spinel_sicd2O4)))"
   ]
  },
  {
   "cell_type": "code",
   "execution_count": 6,
   "id": "e9797f2d",
   "metadata": {},
   "outputs": [
    {
     "name": "stdout",
     "output_type": "stream",
     "text": [
      "Requirement already satisfied: matminer in c:\\users\\ajsf\\anaconda3\\envs\\umap\\lib\\site-packages (0.9.3)\n",
      "Requirement already satisfied: numpy>=1.23 in c:\\users\\ajsf\\anaconda3\\envs\\umap\\lib\\site-packages (from matminer) (2.1.3)\n",
      "Requirement already satisfied: requests~=2.31 in c:\\users\\ajsf\\anaconda3\\envs\\umap\\lib\\site-packages (from matminer) (2.32.3)\n",
      "Requirement already satisfied: pandas<3,>=1.5 in c:\\users\\ajsf\\anaconda3\\envs\\umap\\lib\\site-packages (from matminer) (2.2.3)\n",
      "Requirement already satisfied: tqdm~=4.66 in c:\\users\\ajsf\\anaconda3\\envs\\umap\\lib\\site-packages (from matminer) (4.67.1)\n",
      "Requirement already satisfied: pymongo~=4.5 in c:\\users\\ajsf\\anaconda3\\envs\\umap\\lib\\site-packages (from matminer) (4.10.1)\n",
      "Requirement already satisfied: scikit-learn~=1.3 in c:\\users\\ajsf\\anaconda3\\envs\\umap\\lib\\site-packages (from matminer) (1.6.1)\n",
      "Requirement already satisfied: sympy~=1.11 in c:\\users\\ajsf\\anaconda3\\envs\\umap\\lib\\site-packages (from matminer) (1.13.3)\n",
      "Requirement already satisfied: monty>=2023 in c:\\users\\ajsf\\anaconda3\\envs\\umap\\lib\\site-packages (from matminer) (2025.3.3)\n",
      "Requirement already satisfied: pymatgen>=2023 in c:\\users\\ajsf\\anaconda3\\envs\\umap\\lib\\site-packages (from matminer) (2025.6.14)\n",
      "Requirement already satisfied: python-dateutil>=2.8.2 in c:\\users\\ajsf\\anaconda3\\envs\\umap\\lib\\site-packages (from pandas<3,>=1.5->matminer) (2.9.0.post0)\n",
      "Requirement already satisfied: pytz>=2020.1 in c:\\users\\ajsf\\anaconda3\\envs\\umap\\lib\\site-packages (from pandas<3,>=1.5->matminer) (2024.1)\n",
      "Requirement already satisfied: tzdata>=2022.7 in c:\\users\\ajsf\\anaconda3\\envs\\umap\\lib\\site-packages (from pandas<3,>=1.5->matminer) (2025.2)\n",
      "Requirement already satisfied: dnspython<3.0.0,>=1.16.0 in c:\\users\\ajsf\\anaconda3\\envs\\umap\\lib\\site-packages (from pymongo~=4.5->matminer) (2.7.0)\n",
      "Requirement already satisfied: charset-normalizer<4,>=2 in c:\\users\\ajsf\\anaconda3\\envs\\umap\\lib\\site-packages (from requests~=2.31->matminer) (3.3.2)\n",
      "Requirement already satisfied: idna<4,>=2.5 in c:\\users\\ajsf\\anaconda3\\envs\\umap\\lib\\site-packages (from requests~=2.31->matminer) (3.7)\n",
      "Requirement already satisfied: urllib3<3,>=1.21.1 in c:\\users\\ajsf\\anaconda3\\envs\\umap\\lib\\site-packages (from requests~=2.31->matminer) (2.3.0)\n",
      "Requirement already satisfied: certifi>=2017.4.17 in c:\\users\\ajsf\\anaconda3\\envs\\umap\\lib\\site-packages (from requests~=2.31->matminer) (2025.4.26)\n",
      "Requirement already satisfied: scipy>=1.6.0 in c:\\users\\ajsf\\anaconda3\\envs\\umap\\lib\\site-packages (from scikit-learn~=1.3->matminer) (1.15.3)\n",
      "Requirement already satisfied: joblib>=1.2.0 in c:\\users\\ajsf\\anaconda3\\envs\\umap\\lib\\site-packages (from scikit-learn~=1.3->matminer) (1.4.2)\n",
      "Requirement already satisfied: threadpoolctl>=3.1.0 in c:\\users\\ajsf\\anaconda3\\envs\\umap\\lib\\site-packages (from scikit-learn~=1.3->matminer) (3.5.0)\n",
      "Requirement already satisfied: mpmath<1.4,>=1.1.0 in c:\\users\\ajsf\\anaconda3\\envs\\umap\\lib\\site-packages (from sympy~=1.11->matminer) (1.3.0)\n",
      "Requirement already satisfied: colorama in c:\\users\\ajsf\\anaconda3\\envs\\umap\\lib\\site-packages (from tqdm~=4.66->matminer) (0.4.6)\n",
      "Requirement already satisfied: ruamel.yaml in c:\\users\\ajsf\\anaconda3\\envs\\umap\\lib\\site-packages (from monty>=2023->matminer) (0.18.14)\n",
      "Requirement already satisfied: bibtexparser>=1.4.0 in c:\\users\\ajsf\\anaconda3\\envs\\umap\\lib\\site-packages (from pymatgen>=2023->matminer) (1.4.3)\n",
      "Requirement already satisfied: matplotlib>=3.8 in c:\\users\\ajsf\\anaconda3\\envs\\umap\\lib\\site-packages (from pymatgen>=2023->matminer) (3.10.0)\n",
      "Requirement already satisfied: networkx>=2.7 in c:\\users\\ajsf\\anaconda3\\envs\\umap\\lib\\site-packages (from pymatgen>=2023->matminer) (3.4.2)\n",
      "Requirement already satisfied: orjson<4,>=3.10 in c:\\users\\ajsf\\anaconda3\\envs\\umap\\lib\\site-packages (from pymatgen>=2023->matminer) (3.11.1)\n",
      "Requirement already satisfied: palettable>=3.3.3 in c:\\users\\ajsf\\anaconda3\\envs\\umap\\lib\\site-packages (from pymatgen>=2023->matminer) (3.3.3)\n",
      "Requirement already satisfied: plotly>=5.0.0 in c:\\users\\ajsf\\anaconda3\\envs\\umap\\lib\\site-packages (from pymatgen>=2023->matminer) (5.24.1)\n",
      "Requirement already satisfied: spglib>=2.5 in c:\\users\\ajsf\\anaconda3\\envs\\umap\\lib\\site-packages (from pymatgen>=2023->matminer) (2.6.0)\n",
      "Requirement already satisfied: tabulate>=0.9 in c:\\users\\ajsf\\anaconda3\\envs\\umap\\lib\\site-packages (from pymatgen>=2023->matminer) (0.9.0)\n",
      "Requirement already satisfied: uncertainties>=3.1.4 in c:\\users\\ajsf\\anaconda3\\envs\\umap\\lib\\site-packages (from pymatgen>=2023->matminer) (3.2.3)\n",
      "Requirement already satisfied: pyparsing>=2.0.3 in c:\\users\\ajsf\\anaconda3\\envs\\umap\\lib\\site-packages (from bibtexparser>=1.4.0->pymatgen>=2023->matminer) (3.2.0)\n",
      "Requirement already satisfied: contourpy>=1.0.1 in c:\\users\\ajsf\\anaconda3\\envs\\umap\\lib\\site-packages (from matplotlib>=3.8->pymatgen>=2023->matminer) (1.3.1)\n",
      "Requirement already satisfied: cycler>=0.10 in c:\\users\\ajsf\\anaconda3\\envs\\umap\\lib\\site-packages (from matplotlib>=3.8->pymatgen>=2023->matminer) (0.11.0)\n",
      "Requirement already satisfied: fonttools>=4.22.0 in c:\\users\\ajsf\\anaconda3\\envs\\umap\\lib\\site-packages (from matplotlib>=3.8->pymatgen>=2023->matminer) (4.55.3)\n",
      "Requirement already satisfied: kiwisolver>=1.3.1 in c:\\users\\ajsf\\anaconda3\\envs\\umap\\lib\\site-packages (from matplotlib>=3.8->pymatgen>=2023->matminer) (1.4.8)\n",
      "Requirement already satisfied: packaging>=20.0 in c:\\users\\ajsf\\anaconda3\\envs\\umap\\lib\\site-packages (from matplotlib>=3.8->pymatgen>=2023->matminer) (24.2)\n",
      "Requirement already satisfied: pillow>=8 in c:\\users\\ajsf\\anaconda3\\envs\\umap\\lib\\site-packages (from matplotlib>=3.8->pymatgen>=2023->matminer) (11.1.0)\n",
      "Requirement already satisfied: tenacity>=6.2.0 in c:\\users\\ajsf\\anaconda3\\envs\\umap\\lib\\site-packages (from plotly>=5.0.0->pymatgen>=2023->matminer) (9.0.0)\n",
      "Requirement already satisfied: six>=1.5 in c:\\users\\ajsf\\anaconda3\\envs\\umap\\lib\\site-packages (from python-dateutil>=2.8.2->pandas<3,>=1.5->matminer) (1.17.0)\n",
      "Requirement already satisfied: ruamel.yaml.clib>=0.2.7 in c:\\users\\ajsf\\anaconda3\\envs\\umap\\lib\\site-packages (from ruamel.yaml->monty>=2023->matminer) (0.2.12)\n",
      "Requirement already satisfied: typing-extensions>=4.9.0 in c:\\users\\ajsf\\anaconda3\\envs\\umap\\lib\\site-packages (from spglib>=2.5->pymatgen>=2023->matminer) (4.12.2)\n",
      "Requirement already satisfied: mp-api in c:\\users\\ajsf\\anaconda3\\envs\\umap\\lib\\site-packages (0.45.8)\n",
      "Requirement already satisfied: setuptools in c:\\users\\ajsf\\anaconda3\\envs\\umap\\lib\\site-packages (from mp-api) (72.1.0)\n",
      "Requirement already satisfied: msgpack in c:\\users\\ajsf\\anaconda3\\envs\\umap\\lib\\site-packages (from mp-api) (1.0.7)\n",
      "Requirement already satisfied: maggma>=0.57.1 in c:\\users\\ajsf\\anaconda3\\envs\\umap\\lib\\site-packages (from mp-api) (0.71.5)\n",
      "Requirement already satisfied: pymatgen!=2024.2.20,>=2022.3.7 in c:\\users\\ajsf\\anaconda3\\envs\\umap\\lib\\site-packages (from mp-api) (2025.6.14)\n",
      "Requirement already satisfied: typing-extensions>=3.7.4.1 in c:\\users\\ajsf\\anaconda3\\envs\\umap\\lib\\site-packages (from mp-api) (4.12.2)\n",
      "Requirement already satisfied: requests>=2.23.0 in c:\\users\\ajsf\\anaconda3\\envs\\umap\\lib\\site-packages (from mp-api) (2.32.3)\n",
      "Requirement already satisfied: monty>=2024.12.10 in c:\\users\\ajsf\\anaconda3\\envs\\umap\\lib\\site-packages (from mp-api) (2025.3.3)\n",
      "Requirement already satisfied: emmet-core>=0.84.3rc6 in c:\\users\\ajsf\\anaconda3\\envs\\umap\\lib\\site-packages (from mp-api) (0.84.9rc0)\n",
      "Requirement already satisfied: smart_open in c:\\users\\ajsf\\anaconda3\\envs\\umap\\lib\\site-packages (from mp-api) (7.3.0.post1)\n",
      "Requirement already satisfied: pydantic>=2.0 in c:\\users\\ajsf\\anaconda3\\envs\\umap\\lib\\site-packages (from emmet-core>=0.84.3rc6->mp-api) (2.11.7)\n",
      "Requirement already satisfied: pydantic-settings>=2.0 in c:\\users\\ajsf\\anaconda3\\envs\\umap\\lib\\site-packages (from emmet-core>=0.84.3rc6->mp-api) (2.10.1)\n",
      "Requirement already satisfied: pybtex~=0.24 in c:\\users\\ajsf\\anaconda3\\envs\\umap\\lib\\site-packages (from emmet-core>=0.84.3rc6->mp-api) (0.25.1)\n",
      "Requirement already satisfied: PyYAML>=3.01 in c:\\users\\ajsf\\anaconda3\\envs\\umap\\lib\\site-packages (from pybtex~=0.24->emmet-core>=0.84.3rc6->mp-api) (6.0.2)\n",
      "Requirement already satisfied: latexcodec>=1.0.4 in c:\\users\\ajsf\\anaconda3\\envs\\umap\\lib\\site-packages (from pybtex~=0.24->emmet-core>=0.84.3rc6->mp-api) (3.0.1)\n",
      "Requirement already satisfied: ruamel.yaml>=0.17 in c:\\users\\ajsf\\anaconda3\\envs\\umap\\lib\\site-packages (from maggma>=0.57.1->mp-api) (0.18.14)\n",
      "Requirement already satisfied: pymongo<4.11,>=4.2.0 in c:\\users\\ajsf\\anaconda3\\envs\\umap\\lib\\site-packages (from maggma>=0.57.1->mp-api) (4.10.1)\n",
      "Requirement already satisfied: mongomock>=3.10.0 in c:\\users\\ajsf\\anaconda3\\envs\\umap\\lib\\site-packages (from maggma>=0.57.1->mp-api) (4.3.0)\n",
      "Requirement already satisfied: pydash>=4.1.0 in c:\\users\\ajsf\\anaconda3\\envs\\umap\\lib\\site-packages (from maggma>=0.57.1->mp-api) (8.0.5)\n",
      "Requirement already satisfied: jsonschema>=3.1.1 in c:\\users\\ajsf\\anaconda3\\envs\\umap\\lib\\site-packages (from maggma>=0.57.1->mp-api) (4.23.0)\n",
      "Requirement already satisfied: tqdm>=4.19.6 in c:\\users\\ajsf\\anaconda3\\envs\\umap\\lib\\site-packages (from maggma>=0.57.1->mp-api) (4.67.1)\n",
      "Requirement already satisfied: pandas>=2.2 in c:\\users\\ajsf\\anaconda3\\envs\\umap\\lib\\site-packages (from maggma>=0.57.1->mp-api) (2.2.3)\n",
      "Requirement already satisfied: jsonlines>=4.0.0 in c:\\users\\ajsf\\anaconda3\\envs\\umap\\lib\\site-packages (from maggma>=0.57.1->mp-api) (4.0.0)\n",
      "Requirement already satisfied: aioitertools>=0.5.1 in c:\\users\\ajsf\\anaconda3\\envs\\umap\\lib\\site-packages (from maggma>=0.57.1->mp-api) (0.7.1)\n",
      "Requirement already satisfied: numpy>=1.26 in c:\\users\\ajsf\\anaconda3\\envs\\umap\\lib\\site-packages (from maggma>=0.57.1->mp-api) (2.1.3)\n",
      "Requirement already satisfied: pyzmq>=25.1.1 in c:\\users\\ajsf\\anaconda3\\envs\\umap\\lib\\site-packages (from maggma>=0.57.1->mp-api) (26.2.0)\n",
      "Requirement already satisfied: dnspython>=1.16.0 in c:\\users\\ajsf\\anaconda3\\envs\\umap\\lib\\site-packages (from maggma>=0.57.1->mp-api) (2.7.0)\n",
      "Requirement already satisfied: sshtunnel>=0.1.5 in c:\\users\\ajsf\\anaconda3\\envs\\umap\\lib\\site-packages (from maggma>=0.57.1->mp-api) (0.4.0)\n",
      "Requirement already satisfied: orjson>=3.9.0 in c:\\users\\ajsf\\anaconda3\\envs\\umap\\lib\\site-packages (from maggma>=0.57.1->mp-api) (3.11.1)\n",
      "Requirement already satisfied: boto3>=1.20.41 in c:\\users\\ajsf\\anaconda3\\envs\\umap\\lib\\site-packages (from maggma>=0.57.1->mp-api) (1.40.2)\n",
      "Requirement already satisfied: python-dateutil>=2.8.2 in c:\\users\\ajsf\\anaconda3\\envs\\umap\\lib\\site-packages (from maggma>=0.57.1->mp-api) (2.9.0.post0)\n",
      "Requirement already satisfied: botocore<1.41.0,>=1.40.2 in c:\\users\\ajsf\\anaconda3\\envs\\umap\\lib\\site-packages (from boto3>=1.20.41->maggma>=0.57.1->mp-api) (1.40.2)\n",
      "Requirement already satisfied: jmespath<2.0.0,>=0.7.1 in c:\\users\\ajsf\\anaconda3\\envs\\umap\\lib\\site-packages (from boto3>=1.20.41->maggma>=0.57.1->mp-api) (1.0.1)\n",
      "Requirement already satisfied: s3transfer<0.14.0,>=0.13.0 in c:\\users\\ajsf\\anaconda3\\envs\\umap\\lib\\site-packages (from boto3>=1.20.41->maggma>=0.57.1->mp-api) (0.13.1)\n",
      "Requirement already satisfied: urllib3!=2.2.0,<3,>=1.25.4 in c:\\users\\ajsf\\anaconda3\\envs\\umap\\lib\\site-packages (from botocore<1.41.0,>=1.40.2->boto3>=1.20.41->maggma>=0.57.1->mp-api) (2.3.0)\n",
      "Requirement already satisfied: six>=1.5 in c:\\users\\ajsf\\anaconda3\\envs\\umap\\lib\\site-packages (from python-dateutil>=2.8.2->maggma>=0.57.1->mp-api) (1.17.0)\n",
      "Requirement already satisfied: attrs>=19.2.0 in c:\\users\\ajsf\\anaconda3\\envs\\umap\\lib\\site-packages (from jsonlines>=4.0.0->maggma>=0.57.1->mp-api) (24.3.0)\n",
      "Requirement already satisfied: jsonschema-specifications>=2023.03.6 in c:\\users\\ajsf\\anaconda3\\envs\\umap\\lib\\site-packages (from jsonschema>=3.1.1->maggma>=0.57.1->mp-api) (2023.7.1)\n",
      "Requirement already satisfied: referencing>=0.28.4 in c:\\users\\ajsf\\anaconda3\\envs\\umap\\lib\\site-packages (from jsonschema>=3.1.1->maggma>=0.57.1->mp-api) (0.30.2)\n",
      "Requirement already satisfied: rpds-py>=0.7.1 in c:\\users\\ajsf\\anaconda3\\envs\\umap\\lib\\site-packages (from jsonschema>=3.1.1->maggma>=0.57.1->mp-api) (0.22.3)\n",
      "Requirement already satisfied: packaging in c:\\users\\ajsf\\anaconda3\\envs\\umap\\lib\\site-packages (from mongomock>=3.10.0->maggma>=0.57.1->mp-api) (24.2)\n",
      "Requirement already satisfied: pytz in c:\\users\\ajsf\\anaconda3\\envs\\umap\\lib\\site-packages (from mongomock>=3.10.0->maggma>=0.57.1->mp-api) (2024.1)\n",
      "Requirement already satisfied: sentinels in c:\\users\\ajsf\\anaconda3\\envs\\umap\\lib\\site-packages (from mongomock>=3.10.0->maggma>=0.57.1->mp-api) (1.0.0)\n",
      "Requirement already satisfied: tzdata>=2022.7 in c:\\users\\ajsf\\anaconda3\\envs\\umap\\lib\\site-packages (from pandas>=2.2->maggma>=0.57.1->mp-api) (2025.2)\n",
      "Requirement already satisfied: annotated-types>=0.6.0 in c:\\users\\ajsf\\anaconda3\\envs\\umap\\lib\\site-packages (from pydantic>=2.0->emmet-core>=0.84.3rc6->mp-api) (0.7.0)\n",
      "Requirement already satisfied: pydantic-core==2.33.2 in c:\\users\\ajsf\\anaconda3\\envs\\umap\\lib\\site-packages (from pydantic>=2.0->emmet-core>=0.84.3rc6->mp-api) (2.33.2)\n",
      "Requirement already satisfied: typing-inspection>=0.4.0 in c:\\users\\ajsf\\anaconda3\\envs\\umap\\lib\\site-packages (from pydantic>=2.0->emmet-core>=0.84.3rc6->mp-api) (0.4.1)\n",
      "Requirement already satisfied: python-dotenv>=0.21.0 in c:\\users\\ajsf\\anaconda3\\envs\\umap\\lib\\site-packages (from pydantic-settings>=2.0->emmet-core>=0.84.3rc6->mp-api) (1.1.1)\n",
      "Requirement already satisfied: bibtexparser>=1.4.0 in c:\\users\\ajsf\\anaconda3\\envs\\umap\\lib\\site-packages (from pymatgen!=2024.2.20,>=2022.3.7->mp-api) (1.4.3)\n",
      "Requirement already satisfied: joblib>=1 in c:\\users\\ajsf\\anaconda3\\envs\\umap\\lib\\site-packages (from pymatgen!=2024.2.20,>=2022.3.7->mp-api) (1.4.2)\n",
      "Requirement already satisfied: matplotlib>=3.8 in c:\\users\\ajsf\\anaconda3\\envs\\umap\\lib\\site-packages (from pymatgen!=2024.2.20,>=2022.3.7->mp-api) (3.10.0)\n",
      "Requirement already satisfied: networkx>=2.7 in c:\\users\\ajsf\\anaconda3\\envs\\umap\\lib\\site-packages (from pymatgen!=2024.2.20,>=2022.3.7->mp-api) (3.4.2)\n",
      "Requirement already satisfied: palettable>=3.3.3 in c:\\users\\ajsf\\anaconda3\\envs\\umap\\lib\\site-packages (from pymatgen!=2024.2.20,>=2022.3.7->mp-api) (3.3.3)\n",
      "Requirement already satisfied: plotly>=5.0.0 in c:\\users\\ajsf\\anaconda3\\envs\\umap\\lib\\site-packages (from pymatgen!=2024.2.20,>=2022.3.7->mp-api) (5.24.1)\n",
      "Requirement already satisfied: scipy>=1.13.0 in c:\\users\\ajsf\\anaconda3\\envs\\umap\\lib\\site-packages (from pymatgen!=2024.2.20,>=2022.3.7->mp-api) (1.15.3)\n",
      "Requirement already satisfied: spglib>=2.5 in c:\\users\\ajsf\\anaconda3\\envs\\umap\\lib\\site-packages (from pymatgen!=2024.2.20,>=2022.3.7->mp-api) (2.6.0)\n",
      "Requirement already satisfied: sympy>=1.3 in c:\\users\\ajsf\\anaconda3\\envs\\umap\\lib\\site-packages (from pymatgen!=2024.2.20,>=2022.3.7->mp-api) (1.13.3)\n",
      "Requirement already satisfied: tabulate>=0.9 in c:\\users\\ajsf\\anaconda3\\envs\\umap\\lib\\site-packages (from pymatgen!=2024.2.20,>=2022.3.7->mp-api) (0.9.0)\n",
      "Requirement already satisfied: uncertainties>=3.1.4 in c:\\users\\ajsf\\anaconda3\\envs\\umap\\lib\\site-packages (from pymatgen!=2024.2.20,>=2022.3.7->mp-api) (3.2.3)\n",
      "Requirement already satisfied: pyparsing>=2.0.3 in c:\\users\\ajsf\\anaconda3\\envs\\umap\\lib\\site-packages (from bibtexparser>=1.4.0->pymatgen!=2024.2.20,>=2022.3.7->mp-api) (3.2.0)\n",
      "Requirement already satisfied: contourpy>=1.0.1 in c:\\users\\ajsf\\anaconda3\\envs\\umap\\lib\\site-packages (from matplotlib>=3.8->pymatgen!=2024.2.20,>=2022.3.7->mp-api) (1.3.1)\n",
      "Requirement already satisfied: cycler>=0.10 in c:\\users\\ajsf\\anaconda3\\envs\\umap\\lib\\site-packages (from matplotlib>=3.8->pymatgen!=2024.2.20,>=2022.3.7->mp-api) (0.11.0)\n",
      "Requirement already satisfied: fonttools>=4.22.0 in c:\\users\\ajsf\\anaconda3\\envs\\umap\\lib\\site-packages (from matplotlib>=3.8->pymatgen!=2024.2.20,>=2022.3.7->mp-api) (4.55.3)\n",
      "Requirement already satisfied: kiwisolver>=1.3.1 in c:\\users\\ajsf\\anaconda3\\envs\\umap\\lib\\site-packages (from matplotlib>=3.8->pymatgen!=2024.2.20,>=2022.3.7->mp-api) (1.4.8)\n",
      "Requirement already satisfied: pillow>=8 in c:\\users\\ajsf\\anaconda3\\envs\\umap\\lib\\site-packages (from matplotlib>=3.8->pymatgen!=2024.2.20,>=2022.3.7->mp-api) (11.1.0)\n",
      "Requirement already satisfied: tenacity>=6.2.0 in c:\\users\\ajsf\\anaconda3\\envs\\umap\\lib\\site-packages (from plotly>=5.0.0->pymatgen!=2024.2.20,>=2022.3.7->mp-api) (9.0.0)\n",
      "Requirement already satisfied: charset-normalizer<4,>=2 in c:\\users\\ajsf\\anaconda3\\envs\\umap\\lib\\site-packages (from requests>=2.23.0->mp-api) (3.3.2)\n",
      "Requirement already satisfied: idna<4,>=2.5 in c:\\users\\ajsf\\anaconda3\\envs\\umap\\lib\\site-packages (from requests>=2.23.0->mp-api) (3.7)\n",
      "Requirement already satisfied: certifi>=2017.4.17 in c:\\users\\ajsf\\anaconda3\\envs\\umap\\lib\\site-packages (from requests>=2.23.0->mp-api) (2025.4.26)\n",
      "Requirement already satisfied: ruamel.yaml.clib>=0.2.7 in c:\\users\\ajsf\\anaconda3\\envs\\umap\\lib\\site-packages (from ruamel.yaml>=0.17->maggma>=0.57.1->mp-api) (0.2.12)\n",
      "Requirement already satisfied: paramiko>=2.7.2 in c:\\users\\ajsf\\anaconda3\\envs\\umap\\lib\\site-packages (from sshtunnel>=0.1.5->maggma>=0.57.1->mp-api) (4.0.0)\n",
      "Requirement already satisfied: bcrypt>=3.2 in c:\\users\\ajsf\\anaconda3\\envs\\umap\\lib\\site-packages (from paramiko>=2.7.2->sshtunnel>=0.1.5->maggma>=0.57.1->mp-api) (4.3.0)\n",
      "Requirement already satisfied: cryptography>=3.3 in c:\\users\\ajsf\\anaconda3\\envs\\umap\\lib\\site-packages (from paramiko>=2.7.2->sshtunnel>=0.1.5->maggma>=0.57.1->mp-api) (44.0.1)\n",
      "Requirement already satisfied: invoke>=2.0 in c:\\users\\ajsf\\anaconda3\\envs\\umap\\lib\\site-packages (from paramiko>=2.7.2->sshtunnel>=0.1.5->maggma>=0.57.1->mp-api) (2.2.0)\n",
      "Requirement already satisfied: pynacl>=1.5 in c:\\users\\ajsf\\anaconda3\\envs\\umap\\lib\\site-packages (from paramiko>=2.7.2->sshtunnel>=0.1.5->maggma>=0.57.1->mp-api) (1.5.0)\n",
      "Requirement already satisfied: cffi>=1.12 in c:\\users\\ajsf\\anaconda3\\envs\\umap\\lib\\site-packages (from cryptography>=3.3->paramiko>=2.7.2->sshtunnel>=0.1.5->maggma>=0.57.1->mp-api) (1.17.1)\n",
      "Requirement already satisfied: pycparser in c:\\users\\ajsf\\anaconda3\\envs\\umap\\lib\\site-packages (from cffi>=1.12->cryptography>=3.3->paramiko>=2.7.2->sshtunnel>=0.1.5->maggma>=0.57.1->mp-api) (2.21)\n",
      "Requirement already satisfied: mpmath<1.4,>=1.1.0 in c:\\users\\ajsf\\anaconda3\\envs\\umap\\lib\\site-packages (from sympy>=1.3->pymatgen!=2024.2.20,>=2022.3.7->mp-api) (1.3.0)\n",
      "Requirement already satisfied: colorama in c:\\users\\ajsf\\anaconda3\\envs\\umap\\lib\\site-packages (from tqdm>=4.19.6->maggma>=0.57.1->mp-api) (0.4.6)\n",
      "Requirement already satisfied: wrapt in c:\\users\\ajsf\\anaconda3\\envs\\umap\\lib\\site-packages (from smart_open->mp-api) (1.17.0)\n",
      "Collecting citrination_client\n",
      "  Downloading citrination-client-6.5.1.tar.gz (54 kB)\n",
      "  Preparing metadata (setup.py): started\n",
      "  Preparing metadata (setup.py): finished with status 'done'\n",
      "Requirement already satisfied: requests<3,>=2.20.0 in c:\\users\\ajsf\\anaconda3\\envs\\umap\\lib\\site-packages (from citrination_client) (2.32.3)\n",
      "Collecting pypif (from citrination_client)\n",
      "  Downloading pypif-2.1.2.tar.gz (14 kB)\n",
      "  Preparing metadata (setup.py): started\n",
      "  Preparing metadata (setup.py): finished with status 'done'\n",
      "Requirement already satisfied: six<2 in c:\\users\\ajsf\\anaconda3\\envs\\umap\\lib\\site-packages (from citrination_client) (1.17.0)\n",
      "Requirement already satisfied: pyyaml>=5.1.2 in c:\\users\\ajsf\\anaconda3\\envs\\umap\\lib\\site-packages (from citrination_client) (6.0.2)\n",
      "Requirement already satisfied: charset-normalizer<4,>=2 in c:\\users\\ajsf\\anaconda3\\envs\\umap\\lib\\site-packages (from requests<3,>=2.20.0->citrination_client) (3.3.2)\n",
      "Requirement already satisfied: idna<4,>=2.5 in c:\\users\\ajsf\\anaconda3\\envs\\umap\\lib\\site-packages (from requests<3,>=2.20.0->citrination_client) (3.7)\n",
      "Requirement already satisfied: urllib3<3,>=1.21.1 in c:\\users\\ajsf\\anaconda3\\envs\\umap\\lib\\site-packages (from requests<3,>=2.20.0->citrination_client) (2.3.0)\n",
      "Requirement already satisfied: certifi>=2017.4.17 in c:\\users\\ajsf\\anaconda3\\envs\\umap\\lib\\site-packages (from requests<3,>=2.20.0->citrination_client) (2025.4.26)\n",
      "Requirement already satisfied: numpy in c:\\users\\ajsf\\anaconda3\\envs\\umap\\lib\\site-packages (from pypif->citrination_client) (2.1.3)\n",
      "Building wheels for collected packages: citrination_client, pypif\n",
      "  Building wheel for citrination_client (setup.py): started\n",
      "  Building wheel for citrination_client (setup.py): finished with status 'done'\n",
      "  Created wheel for citrination_client: filename=citrination_client-6.5.1-py2.py3-none-any.whl size=116069 sha256=1019f8c4c79da631e647cc09c85e0160717138abf8aae7ae53b2a7dcce448568\n",
      "  Stored in directory: c:\\users\\ajsf\\appdata\\local\\pip\\cache\\wheels\\04\\64\\f4\\2c785fb312ef2696835d8b96430591fe9d12e6a6c8d97d17f5\n",
      "  Building wheel for pypif (setup.py): started\n",
      "  Building wheel for pypif (setup.py): finished with status 'done'\n",
      "  Created wheel for pypif: filename=pypif-2.1.2-py2.py3-none-any.whl size=29480 sha256=91d76c758d688c80e1a3f273274b333fee94c01a151aaf82b3e40b718ab80596\n",
      "  Stored in directory: c:\\users\\ajsf\\appdata\\local\\pip\\cache\\wheels\\85\\c0\\0c\\ff58eada12b85869a03130e7ccda0c8e055ff54f8d65ce7640\n",
      "Successfully built citrination_client pypif\n",
      "Installing collected packages: pypif, citrination_client\n",
      "\n",
      "   ---------------------------------------- 0/2 [pypif]\n",
      "   ---------------------------------------- 0/2 [pypif]\n",
      "   ---------------------------------------- 0/2 [pypif]\n",
      "   ---------------------------------------- 0/2 [pypif]\n",
      "   -------------------- ------------------- 1/2 [citrination_client]\n",
      "   -------------------- ------------------- 1/2 [citrination_client]\n",
      "   -------------------- ------------------- 1/2 [citrination_client]\n",
      "   -------------------- ------------------- 1/2 [citrination_client]\n",
      "   -------------------- ------------------- 1/2 [citrination_client]\n",
      "   -------------------- ------------------- 1/2 [citrination_client]\n",
      "   -------------------- ------------------- 1/2 [citrination_client]\n",
      "   -------------------- ------------------- 1/2 [citrination_client]\n",
      "   -------------------- ------------------- 1/2 [citrination_client]\n",
      "   -------------------- ------------------- 1/2 [citrination_client]\n",
      "   -------------------- ------------------- 1/2 [citrination_client]\n",
      "   -------------------- ------------------- 1/2 [citrination_client]\n",
      "   -------------------- ------------------- 1/2 [citrination_client]\n",
      "   -------------------- ------------------- 1/2 [citrination_client]\n",
      "   -------------------- ------------------- 1/2 [citrination_client]\n",
      "   -------------------- ------------------- 1/2 [citrination_client]\n",
      "   -------------------- ------------------- 1/2 [citrination_client]\n",
      "   -------------------- ------------------- 1/2 [citrination_client]\n",
      "   -------------------- ------------------- 1/2 [citrination_client]\n",
      "   -------------------- ------------------- 1/2 [citrination_client]\n",
      "   -------------------- ------------------- 1/2 [citrination_client]\n",
      "   ---------------------------------------- 2/2 [citrination_client]\n",
      "\n",
      "Successfully installed citrination_client-6.5.1 pypif-2.1.2\n"
     ]
    },
    {
     "name": "stderr",
     "output_type": "stream",
     "text": [
      "  DEPRECATION: Building 'citrination_client' using the legacy setup.py bdist_wheel mechanism, which will be removed in a future version. pip 25.3 will enforce this behaviour change. A possible replacement is to use the standardized build interface by setting the `--use-pep517` option, (possibly combined with `--no-build-isolation`), or adding a `pyproject.toml` file to the source tree of 'citrination_client'. Discussion can be found at https://github.com/pypa/pip/issues/6334\n",
      "  DEPRECATION: Building 'pypif' using the legacy setup.py bdist_wheel mechanism, which will be removed in a future version. pip 25.3 will enforce this behaviour change. A possible replacement is to use the standardized build interface by setting the `--use-pep517` option, (possibly combined with `--no-build-isolation`), or adding a `pyproject.toml` file to the source tree of 'pypif'. Discussion can be found at https://github.com/pypa/pip/issues/6334\n"
     ]
    }
   ],
   "source": [
    "!pip install matminer\n",
    "!pip install mp-api\n",
    "!pip install citrination_client"
   ]
  },
  {
   "cell_type": "code",
   "execution_count": 7,
   "id": "6e147767",
   "metadata": {},
   "outputs": [
    {
     "ename": "AttributeError",
     "evalue": "Citrine API key not found.\n\n            You need to get an API key from Citrination, and either supply it as an argument to\n            this class or set it as the value of the CITRINATION_API_KEY environment variable\n\n            See https://citrineinformatics.github.io/api-documentation/quickstart/index.html\n            for details on how to get an API key",
     "output_type": "error",
     "traceback": [
      "\u001b[1;31m---------------------------------------------------------------------------\u001b[0m",
      "\u001b[1;31mAttributeError\u001b[0m                            Traceback (most recent call last)",
      "Cell \u001b[1;32mIn[7], line 4\u001b[0m\n\u001b[0;32m      1\u001b[0m \u001b[38;5;28;01mfrom\u001b[39;00m\u001b[38;5;250m \u001b[39m\u001b[38;5;21;01mmatminer\u001b[39;00m\u001b[38;5;21;01m.\u001b[39;00m\u001b[38;5;21;01mdata_retrieval\u001b[39;00m\u001b[38;5;21;01m.\u001b[39;00m\u001b[38;5;21;01mretrieve_Citrine\u001b[39;00m\u001b[38;5;250m \u001b[39m\u001b[38;5;28;01mimport\u001b[39;00m CitrineDataRetrieval\n\u001b[0;32m      2\u001b[0m \u001b[38;5;28;01mfrom\u001b[39;00m\u001b[38;5;250m \u001b[39m\u001b[38;5;21;01mmatminer\u001b[39;00m\u001b[38;5;21;01m.\u001b[39;00m\u001b[38;5;21;01mdata_retrieval\u001b[39;00m\u001b[38;5;21;01m.\u001b[39;00m\u001b[38;5;21;01mretrieve_MP\u001b[39;00m\u001b[38;5;250m \u001b[39m\u001b[38;5;28;01mimport\u001b[39;00m MPDataRetrieval\n\u001b[1;32m----> 4\u001b[0m df_citrine \u001b[38;5;241m=\u001b[39m CitrineDataRetrieval()\u001b[38;5;241m.\u001b[39mget_dataframe(criteria\u001b[38;5;241m=\u001b[39m\u001b[38;5;124m'\u001b[39m\u001b[38;5;124mSi\u001b[39m\u001b[38;5;124m'\u001b[39m, properties\u001b[38;5;241m=\u001b[39m[\u001b[38;5;124m'\u001b[39m\u001b[38;5;124mband_gap\u001b[39m\u001b[38;5;124m'\u001b[39m])\n\u001b[0;32m      5\u001b[0m df_mp \u001b[38;5;241m=\u001b[39m MPDataRetrieval()\u001b[38;5;241m.\u001b[39mget_dataframe(criteria\u001b[38;5;241m=\u001b[39m\u001b[38;5;124m'\u001b[39m\u001b[38;5;124mSi\u001b[39m\u001b[38;5;124m'\u001b[39m, properties\u001b[38;5;241m=\u001b[39m[\u001b[38;5;124m'\u001b[39m\u001b[38;5;124mband_gap\u001b[39m\u001b[38;5;124m'\u001b[39m])\n",
      "File \u001b[1;32mc:\\Users\\ajsf\\anaconda3\\envs\\umap\\Lib\\site-packages\\matminer\\data_retrieval\\retrieve_Citrine.py:66\u001b[0m, in \u001b[0;36mCitrineDataRetrieval.__init__\u001b[1;34m(self, api_key)\u001b[0m\n\u001b[0;32m     64\u001b[0m     api_key \u001b[38;5;241m=\u001b[39m os\u001b[38;5;241m.\u001b[39menviron[\u001b[38;5;124m\"\u001b[39m\u001b[38;5;124mCITRINE_KEY\u001b[39m\u001b[38;5;124m\"\u001b[39m]\n\u001b[0;32m     65\u001b[0m \u001b[38;5;28;01melse\u001b[39;00m:\n\u001b[1;32m---> 66\u001b[0m     \u001b[38;5;28;01mraise\u001b[39;00m \u001b[38;5;167;01mAttributeError\u001b[39;00m(\n\u001b[0;32m     67\u001b[0m \u001b[38;5;250m        \u001b[39m\u001b[38;5;124;03m\"\"\"Citrine API key not found.\u001b[39;00m\n\u001b[0;32m     68\u001b[0m \n\u001b[0;32m     69\u001b[0m \u001b[38;5;124;03m    You need to get an API key from Citrination, and either supply it as an argument to\u001b[39;00m\n\u001b[0;32m     70\u001b[0m \u001b[38;5;124;03m    this class or set it as the value of the CITRINATION_API_KEY environment variable\u001b[39;00m\n\u001b[0;32m     71\u001b[0m \n\u001b[0;32m     72\u001b[0m \u001b[38;5;124;03m    See https://citrineinformatics.github.io/api-documentation/quickstart/index.html\u001b[39;00m\n\u001b[0;32m     73\u001b[0m \u001b[38;5;124;03m    for details on how to get an API key\"\"\"\u001b[39;00m\n\u001b[0;32m     74\u001b[0m     )\n\u001b[0;32m     76\u001b[0m \u001b[38;5;28mself\u001b[39m\u001b[38;5;241m.\u001b[39mclient \u001b[38;5;241m=\u001b[39m CitrinationClient(api_key, \u001b[38;5;124m\"\u001b[39m\u001b[38;5;124mhttps://citrination.com\u001b[39m\u001b[38;5;124m\"\u001b[39m)\n",
      "\u001b[1;31mAttributeError\u001b[0m: Citrine API key not found.\n\n            You need to get an API key from Citrination, and either supply it as an argument to\n            this class or set it as the value of the CITRINATION_API_KEY environment variable\n\n            See https://citrineinformatics.github.io/api-documentation/quickstart/index.html\n            for details on how to get an API key"
     ]
    }
   ],
   "source": [
    "from matminer.data_retrieval.retrieve_Citrine import CitrineDataRetrieval\n",
    "from matminer.data_retrieval.retrieve_MP import MPDataRetrieval\n",
    "\n",
    "df_citrine = CitrineDataRetrieval().get_dataframe(criteria='Si', properties=['band_gap'])\n",
    "df_mp = MPDataRetrieval().get_dataframe(criteria='Si', properties=['band_gap'])"
   ]
  },
  {
   "cell_type": "code",
   "execution_count": null,
   "id": "b7fa476e",
   "metadata": {},
   "outputs": [],
   "source": []
  }
 ],
 "metadata": {
  "kernelspec": {
   "display_name": "umap",
   "language": "python",
   "name": "python3"
  },
  "language_info": {
   "codemirror_mode": {
    "name": "ipython",
    "version": 3
   },
   "file_extension": ".py",
   "mimetype": "text/x-python",
   "name": "python",
   "nbconvert_exporter": "python",
   "pygments_lexer": "ipython3",
   "version": "3.12.11"
  }
 },
 "nbformat": 4,
 "nbformat_minor": 5
}
